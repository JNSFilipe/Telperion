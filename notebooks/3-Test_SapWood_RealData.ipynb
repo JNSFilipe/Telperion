{
 "cells": [
  {
   "cell_type": "code",
   "execution_count": 130,
   "metadata": {},
   "outputs": [],
   "source": [
    "import random\n",
    "import numpy as np\n",
    "import pandas as pd\n",
    "import seaborn as sns\n",
    "import matplotlib.pyplot as plt\n",
    "\n",
    "sns.set()\n",
    "plt.rcParams['figure.figsize'] = [16, 10]"
   ]
  },
  {
   "cell_type": "code",
   "execution_count": 131,
   "metadata": {},
   "outputs": [],
   "source": [
    "from sklearn.pipeline import Pipeline\n",
    "from sklearn.metrics import accuracy_score\n",
    "from sklearn.compose import ColumnTransformer\n",
    "from sklearn.preprocessing import MinMaxScaler\n",
    "from sklearn.tree import DecisionTreeClassifier\n",
    "from sklearn.ensemble import RandomForestClassifier\n",
    "from sklearn.feature_selection import SelectKBest, mutual_info_classif, f_classif, chi2"
   ]
  },
  {
   "cell_type": "code",
   "execution_count": 132,
   "metadata": {},
   "outputs": [],
   "source": [
    "import sys\n",
    "# caution: path[0] is reserved for script path (or '' in REPL)\n",
    "sys.path.insert(1, '../telperion')\n",
    "from SapWood import SapWood\n",
    "\n",
    "from sklearn.metrics import accuracy_score\n",
    "from sklearn.tree import DecisionTreeClassifier"
   ]
  },
  {
   "cell_type": "code",
   "execution_count": 133,
   "metadata": {},
   "outputs": [],
   "source": [
    "def read_csv_file(path, seed=42, thr=50000):\n",
    "    num_lines = sum(1 for line in open(path))\n",
    "    if num_lines > thr:\n",
    "        random.seed(seed)\n",
    "        skip = sorted(random.sample(range(num_lines),num_lines-thr))\n",
    "        df = pd.read_csv(path, skiprows=skip[1:])\n",
    "    else:\n",
    "        df = pd.read_csv(path)\n",
    "    return df"
   ]
  },
  {
   "cell_type": "code",
   "execution_count": 134,
   "metadata": {},
   "outputs": [],
   "source": [
    "df_train = read_csv_file('./data/train_QT.csv')\n",
    "df_train['latitude'] = df_train['y']/(df_train['y'].max()+128) * 2 * 85 - 85\n",
    "train = {'north': df_train[df_train['latitude']< -45],\n",
    "            'south': df_train[df_train['latitude']> 45],\n",
    "            'center': df_train[~(df_train['latitude']< -45) & ~(df_train['latitude']> 45)]}\n",
    "\n",
    "df_test = read_csv_file('./data/test_QT.csv')\n",
    "df_test['latitude'] = df_test['y']/(df_test['y'].max()+128) * 2 * 85 - 85\n",
    "test = {'north': df_test[df_test['latitude']< -45],\n",
    "            'south': df_test[df_test['latitude']> 45],\n",
    "            'center': df_test[~(df_test['latitude']< -45) & ~(df_test['latitude']> 45)]}"
   ]
  },
  {
   "cell_type": "code",
   "execution_count": 135,
   "metadata": {},
   "outputs": [],
   "source": [
    "band = 'center'\n",
    "x_train = train[band].drop(columns='split') #.copy()\n",
    "y_train = train[band]['split'] #.copy()\n",
    "\n",
    "x_test = test[band].drop(columns='split') #.copy()\n",
    "y_test = test[band]['split'] #.copy()\n",
    "\n",
    "num_features = []\n",
    "for feat in x_train.columns:\n",
    "    if max(x_train[feat]) != 1:\n",
    "        num_features.append(feat)\n",
    "\n",
    "pre = Pipeline([\n",
    "    ('scaler', ColumnTransformer([('scaler', MinMaxScaler(), num_features)], remainder='passthrough')),\n",
    "    ('features', SelectKBest(chi2, k=5))\n",
    "])\n",
    "\n",
    "pre.fit(x_train, y_train)\n",
    "\n",
    "preprocess = lambda x: pre.transform(x)"
   ]
  },
  {
   "cell_type": "markdown",
   "metadata": {},
   "source": [
    "## Max Depth 2"
   ]
  },
  {
   "cell_type": "code",
   "execution_count": 136,
   "metadata": {},
   "outputs": [
    {
     "name": "stderr",
     "output_type": "stream",
     "text": [
      "|| E: 50 | L: 0.100995 | A: 87.42% ||: 100%|██████████| 50/50 [00:01<00:00, 36.79it/s]\n",
      "|| E: 50 | L: 0.119764 | A: 83.48% ||: 100%|██████████| 50/50 [00:00<00:00, 195.08it/s]\n",
      "|| E: 50 | L: 0.096901 | A: 88.17% ||: 100%|██████████| 50/50 [00:01<00:00, 45.46it/s]\n"
     ]
    },
    {
     "name": "stdout",
     "output_type": "stream",
     "text": [
      "85.25\n"
     ]
    }
   ],
   "source": [
    "max_depth = 2\n",
    "n_estimators = (5,10)\n",
    "\n",
    "sw = SapWood(max_depth=max_depth)\n",
    "\n",
    "sw.fit(preprocess(x_train), y_train.values, metric='gini')\n",
    "\n",
    "print(round(accuracy_score(y_test.values, sw.predict(preprocess(x_test))),4)*100)"
   ]
  },
  {
   "cell_type": "code",
   "execution_count": 137,
   "metadata": {},
   "outputs": [
    {
     "name": "stdout",
     "output_type": "stream",
     "text": [
      "84.28\n"
     ]
    }
   ],
   "source": [
    "dt = DecisionTreeClassifier(max_depth=max_depth)\n",
    "dt.fit(preprocess(x_train), y_train)\n",
    "print(round(accuracy_score(y_test, dt.predict(preprocess(x_test))),4)*100)"
   ]
  },
  {
   "cell_type": "code",
   "execution_count": 138,
   "metadata": {},
   "outputs": [
    {
     "name": "stdout",
     "output_type": "stream",
     "text": [
      "84.99\n"
     ]
    }
   ],
   "source": [
    "rf = RandomForestClassifier(n_estimators=n_estimators[0], max_depth=max_depth, random_state=42)\n",
    "rf.fit(preprocess(x_train), y_train)\n",
    "print(round(accuracy_score(y_test, rf.predict(preprocess(x_test))),4)*100)"
   ]
  },
  {
   "cell_type": "code",
   "execution_count": 139,
   "metadata": {},
   "outputs": [
    {
     "name": "stdout",
     "output_type": "stream",
     "text": [
      "84.99\n"
     ]
    }
   ],
   "source": [
    "rf = RandomForestClassifier(n_estimators=n_estimators[1], max_depth=max_depth, random_state=42)\n",
    "rf.fit(preprocess(x_train), y_train)\n",
    "print(round(accuracy_score(y_test, rf.predict(preprocess(x_test))),4)*100)"
   ]
  },
  {
   "cell_type": "markdown",
   "metadata": {},
   "source": [
    "## Max Depth 3"
   ]
  },
  {
   "cell_type": "code",
   "execution_count": 140,
   "metadata": {},
   "outputs": [
    {
     "name": "stderr",
     "output_type": "stream",
     "text": [
      "|| E: 50 | L: 0.100995 | A: 87.42% ||: 100%|██████████| 50/50 [00:01<00:00, 36.73it/s]\n",
      "|| E: 50 | L: 0.119764 | A: 83.48% ||: 100%|██████████| 50/50 [00:00<00:00, 189.08it/s]\n",
      "|| E: 50 | L: 0.072800 | A: 91.48% ||: 100%|██████████| 50/50 [00:00<00:00, 243.19it/s]\n",
      "|| E: 50 | L: 0.233487 | A: 62.04% ||: 100%|██████████| 50/50 [00:00<00:00, 482.48it/s]\n",
      "|| E: 50 | L: 0.096901 | A: 88.17% ||: 100%|██████████| 50/50 [00:01<00:00, 46.11it/s]\n",
      "|| E: 50 | L: 0.174774 | A: 75.23% ||: 100%|██████████| 50/50 [00:00<00:00, 178.37it/s]\n",
      "|| E: 50 | L: 0.074768 | A: 91.78% ||: 100%|██████████| 50/50 [00:00<00:00, 57.15it/s]\n"
     ]
    },
    {
     "name": "stdout",
     "output_type": "stream",
     "text": [
      "85.25\n"
     ]
    }
   ],
   "source": [
    "max_depth = 3\n",
    "\n",
    "sw = SapWood(max_depth=max_depth)\n",
    "\n",
    "sw.fit(preprocess(x_train), y_train.values, metric='gini')\n",
    "\n",
    "print(round(accuracy_score(y_test.values, sw.predict(preprocess(x_test))),4)*100)"
   ]
  },
  {
   "cell_type": "code",
   "execution_count": 141,
   "metadata": {},
   "outputs": [
    {
     "name": "stdout",
     "output_type": "stream",
     "text": [
      "84.92\n"
     ]
    }
   ],
   "source": [
    "dt = DecisionTreeClassifier(max_depth=max_depth)\n",
    "dt.fit(preprocess(x_train), y_train)\n",
    "print(round(accuracy_score(y_test, dt.predict(preprocess(x_test))),4)*100)"
   ]
  },
  {
   "cell_type": "code",
   "execution_count": 142,
   "metadata": {},
   "outputs": [
    {
     "name": "stdout",
     "output_type": "stream",
     "text": [
      "85.2\n"
     ]
    }
   ],
   "source": [
    "rf = RandomForestClassifier(n_estimators=n_estimators[0], max_depth=max_depth, random_state=42)\n",
    "rf.fit(preprocess(x_train), y_train)\n",
    "print(round(accuracy_score(y_test, rf.predict(preprocess(x_test))),4)*100)"
   ]
  },
  {
   "cell_type": "code",
   "execution_count": 143,
   "metadata": {},
   "outputs": [
    {
     "name": "stdout",
     "output_type": "stream",
     "text": [
      "85.32\n"
     ]
    }
   ],
   "source": [
    "rf = RandomForestClassifier(n_estimators=n_estimators[1], max_depth=max_depth, random_state=42)\n",
    "rf.fit(preprocess(x_train), y_train)\n",
    "print(round(accuracy_score(y_test, rf.predict(preprocess(x_test))),4)*100)"
   ]
  }
 ],
 "metadata": {
  "kernelspec": {
   "display_name": "Python 3.10.8 64-bit",
   "language": "python",
   "name": "python3"
  },
  "language_info": {
   "codemirror_mode": {
    "name": "ipython",
    "version": 3
   },
   "file_extension": ".py",
   "mimetype": "text/x-python",
   "name": "python",
   "nbconvert_exporter": "python",
   "pygments_lexer": "ipython3",
   "version": "3.10.8"
  },
  "orig_nbformat": 4,
  "vscode": {
   "interpreter": {
    "hash": "642f4cd038ac53d86368596778cad91693d7daaea9fca12ab55f96087f799d19"
   }
  }
 },
 "nbformat": 4,
 "nbformat_minor": 2
}
