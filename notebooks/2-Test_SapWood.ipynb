{
 "cells": [
  {
   "cell_type": "code",
   "execution_count": 1,
   "metadata": {},
   "outputs": [],
   "source": [
    "import numpy as np\n",
    "import seaborn as sns\n",
    "import matplotlib.pyplot as plt\n",
    "\n",
    "sns.set()\n",
    "plt.rcParams['figure.figsize'] = [16, 10]"
   ]
  },
  {
   "cell_type": "code",
   "execution_count": 2,
   "metadata": {},
   "outputs": [],
   "source": [
    "import sys\n",
    "# caution: path[0] is reserved for script path (or '' in REPL)\n",
    "sys.path.insert(1, '../telperion')\n",
    "from SapWood import SapWood"
   ]
  },
  {
   "cell_type": "code",
   "execution_count": 3,
   "metadata": {},
   "outputs": [
    {
     "data": {
      "text/plain": [
       "<matplotlib.colorbar.Colorbar at 0x7f234f9cb220>"
      ]
     },
     "execution_count": 3,
     "metadata": {},
     "output_type": "execute_result"
    },
    {
     "data": {
      "image/png": "[encoded data removed]",
      "text/plain": [
       "<Figure size 432x288 with 2 Axes>"
      ]
     },
     "metadata": {
      "needs_background": "light"
     },
     "output_type": "display_data"
    }
   ],
   "source": [
    "x = np.random.uniform(low=0, high=1, size=(50000,5))\n",
    "y = np.array([1 if (j-0.5)**2 + (i-0.5)**2 < 0.2 else 0 for i, j in zip(x[:,0],x[:,1])])\n",
    "# y = np.round(x[:,0])\n",
    "\n",
    "plt.scatter(x[:,0],x[:,1], c=y, cmap='jet')\n",
    "plt.colorbar()"
   ]
  },
  {
   "cell_type": "code",
   "execution_count": 4,
   "metadata": {},
   "outputs": [
    {
     "name": "stderr",
     "output_type": "stream",
     "text": [
      "E: 50 | L: 3.932651 | A: 0.00: 100%|██████████| 50/50 [00:01<00:00, 29.71it/s]\n",
      "E: 50 | L: 3.666892 | A: 0.00: 100%|██████████| 50/50 [00:01<00:00, 30.57it/s]\n",
      "E: 50 | L: 3.449622 | A: 0.00: 100%|██████████| 50/50 [00:01<00:00, 31.34it/s]\n",
      "E: 50 | L: 3.317472 | A: 0.00: 100%|██████████| 50/50 [00:01<00:00, 30.78it/s]\n",
      "E: 50 | L: 3.415918 | A: 0.00: 100%|██████████| 50/50 [00:01<00:00, 32.07it/s]\n"
     ]
    }
   ],
   "source": [
    "sw = SapWood(x.shape[1])\n",
    "\n",
    "sw.fit(x, y)"
   ]
  },
  {
   "cell_type": "code",
   "execution_count": 5,
   "metadata": {},
   "outputs": [
    {
     "name": "stderr",
     "output_type": "stream",
     "text": [
      "E: 50 | L: 0.234591 | A: 62.45: 100%|██████████| 50/50 [00:01<00:00, 39.67it/s]\n"
     ]
    }
   ],
   "source": [
    "from HeartWood import HeartWood\n",
    "\n",
    "hw = HeartWood(x.shape[1])\n",
    "hw.fit(x, y)"
   ]
  },
  {
   "cell_type": "code",
   "execution_count": 6,
   "metadata": {},
   "outputs": [],
   "source": [
    "from sklearn.datasets import load_breast_cancer\n",
    "\n",
    "data = load_breast_cancer()\n",
    "x = data['data']\n",
    "y = data['target']"
   ]
  },
  {
   "cell_type": "code",
   "execution_count": 7,
   "metadata": {},
   "outputs": [
    {
     "name": "stderr",
     "output_type": "stream",
     "text": [
      "  0%|          | 0/50 [00:00<?, ?it/s]/home/jfilipe/GitHub/Telperion/notebooks/../telperion/HeartWood.py:43: RuntimeWarning: overflow encountered in cosh\n",
      "  return 0.5/(np.cosh(x)**2)\n",
      "/home/jfilipe/GitHub/Telperion/notebooks/../telperion/HeartWood.py:43: RuntimeWarning: overflow encountered in square\n",
      "  return 0.5/(np.cosh(x)**2)\n",
      "E: 50 | L: 4.212114 | A: 0.00: 100%|██████████| 50/50 [00:00<00:00, 1027.76it/s]\n",
      "E: 50 | L: 5.332625 | A: 0.00: 100%|██████████| 50/50 [00:00<00:00, 1224.36it/s]\n",
      "E: 50 | L: 5.826805 | A: 0.00: 100%|██████████| 50/50 [00:00<00:00, 1111.35it/s]\n",
      "E: 50 | L: 7.354553 | A: 0.00: 100%|██████████| 50/50 [00:00<00:00, 1138.11it/s]\n",
      "E: 50 | L: 6.773481 | A: 0.00: 100%|██████████| 50/50 [00:00<00:00, 1096.13it/s]\n"
     ]
    }
   ],
   "source": [
    "sw = SapWood(x.shape[1])\n",
    "\n",
    "sw.fit(x, y)"
   ]
  },
  {
   "cell_type": "code",
   "execution_count": 8,
   "metadata": {},
   "outputs": [
    {
     "name": "stderr",
     "output_type": "stream",
     "text": [
      "E: 50 | L: 0.641502 | A: 35.85: 100%|██████████| 50/50 [00:00<00:00, 1047.96it/s]\n"
     ]
    }
   ],
   "source": [
    "from HeartWood import HeartWood\n",
    "\n",
    "hw = HeartWood(x.shape[1])\n",
    "hw.fit(x, y)"
   ]
  },
  {
   "cell_type": "code",
   "execution_count": null,
   "metadata": {},
   "outputs": [],
   "source": []
  }
 ],
 "metadata": {
  "kernelspec": {
   "display_name": "Python 3.10.6 64-bit",
   "language": "python",
   "name": "python3"
  },
  "language_info": {
   "codemirror_mode": {
    "name": "ipython",
    "version": 3
   },
   "file_extension": ".py",
   "mimetype": "text/x-python",
   "name": "python",
   "nbconvert_exporter": "python",
   "pygments_lexer": "ipython3",
   "version": "3.10.6"
  },
  "orig_nbformat": 4,
  "vscode": {
   "interpreter": {
    "hash": "e7370f93d1d0cde622a1f8e1c04877d8463912d04d973331ad4851f04de6915a"
   }
  }
 },
 "nbformat": 4,
 "nbformat_minor": 2
}
